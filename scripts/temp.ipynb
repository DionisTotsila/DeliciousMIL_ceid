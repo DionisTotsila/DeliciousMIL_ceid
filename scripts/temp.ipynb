{
 "cells": [
  {
   "cell_type": "code",
   "execution_count": 1,
   "metadata": {},
   "outputs": [],
   "source": [
    "import pandas as pd "
   ]
  },
  {
   "cell_type": "code",
   "execution_count": 12,
   "metadata": {},
   "outputs": [],
   "source": [
    "df = pd.read_csv(\"../data/test-data.dat\", names=[\"data\"])"
   ]
  },
  {
   "cell_type": "code",
   "execution_count": 18,
   "metadata": {},
   "outputs": [],
   "source": [
    "df[\"label\"] = pd.read_csv(\"../data/test-label.dat\", header=None)"
   ]
  },
  {
   "cell_type": "code",
   "execution_count": 19,
   "metadata": {},
   "outputs": [
    {
     "data": {
      "text/html": [
       "<div>\n",
       "<style scoped>\n",
       "    .dataframe tbody tr th:only-of-type {\n",
       "        vertical-align: middle;\n",
       "    }\n",
       "\n",
       "    .dataframe tbody tr th {\n",
       "        vertical-align: top;\n",
       "    }\n",
       "\n",
       "    .dataframe thead th {\n",
       "        text-align: right;\n",
       "    }\n",
       "</style>\n",
       "<table border=\"1\" class=\"dataframe\">\n",
       "  <thead>\n",
       "    <tr style=\"text-align: right;\">\n",
       "      <th></th>\n",
       "      <th>data</th>\n",
       "      <th>label</th>\n",
       "    </tr>\n",
       "  </thead>\n",
       "  <tbody>\n",
       "    <tr>\n",
       "      <th>0</th>\n",
       "      <td>&lt;31&gt; &lt;6&gt; 5282 4641 3031 536 5366 1759 &lt;5&gt; 4855...</td>\n",
       "      <td>1 1 1 0 0 0 0 0 0 0 0 0 0 0 0 0 0 0 0 0</td>\n",
       "    </tr>\n",
       "    <tr>\n",
       "      <th>1</th>\n",
       "      <td>&lt;31&gt; &lt;7&gt; 838 4060 2673 3204 5724 8518 6629 &lt;8&gt;...</td>\n",
       "      <td>0 0 0 0 0 1 1 1 1 0 0 0 0 0 0 0 0 0 0 0</td>\n",
       "    </tr>\n",
       "    <tr>\n",
       "      <th>2</th>\n",
       "      <td>&lt;31&gt; &lt;6&gt; 3664 3664 1254 5970 126 2401 &lt;6&gt; 2401...</td>\n",
       "      <td>0 0 1 0 1 1 0 0 1 1 0 0 0 0 0 0 0 0 0 0</td>\n",
       "    </tr>\n",
       "    <tr>\n",
       "      <th>3</th>\n",
       "      <td>&lt;19&gt; &lt;4&gt; 4688 3981 6858 4338 &lt;6&gt; 4282 2229 139...</td>\n",
       "      <td>0 0 0 0 0 0 0 0 0 0 0 0 1 0 0 0 0 0 0 0</td>\n",
       "    </tr>\n",
       "    <tr>\n",
       "      <th>4</th>\n",
       "      <td>&lt;4&gt; &lt;8&gt; 777 5978 3631 1505 2287 4461 46 2401 &lt;...</td>\n",
       "      <td>0 0 1 0 0 0 0 0 0 1 0 0 0 1 0 0 0 0 0 0</td>\n",
       "    </tr>\n",
       "    <tr>\n",
       "      <th>...</th>\n",
       "      <td>...</td>\n",
       "      <td>...</td>\n",
       "    </tr>\n",
       "    <tr>\n",
       "      <th>3978</th>\n",
       "      <td>&lt;7&gt; &lt;9&gt; 2545 4627 209 1761 1732 2610 7934 1015...</td>\n",
       "      <td>0 0 0 0 0 0 1 0 0 0 0 0 0 0 0 0 0 0 0 0</td>\n",
       "    </tr>\n",
       "    <tr>\n",
       "      <th>3979</th>\n",
       "      <td>&lt;31&gt; &lt;4&gt; 2374 1355 1564 2577 &lt;9&gt; 2615 5388 119...</td>\n",
       "      <td>0 0 0 0 0 0 0 0 0 0 0 0 0 0 0 0 0 0 0 0</td>\n",
       "    </tr>\n",
       "    <tr>\n",
       "      <th>3980</th>\n",
       "      <td>&lt;31&gt; &lt;10&gt; 2892 6895 5902 5970 5684 2892 1163 5...</td>\n",
       "      <td>0 0 0 0 1 0 0 1 0 0 0 0 0 0 0 0 0 0 0 0</td>\n",
       "    </tr>\n",
       "    <tr>\n",
       "      <th>3981</th>\n",
       "      <td>&lt;3&gt; &lt;5&gt; 2781 3368 3672 704 5667 &lt;5&gt; 5978 3031 ...</td>\n",
       "      <td>1 0 0 0 0 0 0 1 0 0 0 0 0 0 0 0 0 0 0 0</td>\n",
       "    </tr>\n",
       "    <tr>\n",
       "      <th>3982</th>\n",
       "      <td>&lt;3&gt; &lt;4&gt; 1209 6858 1137 4466 &lt;8&gt; 859 444 1037 8...</td>\n",
       "      <td>0 0 1 0 1 1 1 0 0 0 0 0 0 0 0 0 0 0 0 0</td>\n",
       "    </tr>\n",
       "  </tbody>\n",
       "</table>\n",
       "<p>3983 rows × 2 columns</p>\n",
       "</div>"
      ],
      "text/plain": [
       "                                                   data  \\\n",
       "0     <31> <6> 5282 4641 3031 536 5366 1759 <5> 4855...   \n",
       "1     <31> <7> 838 4060 2673 3204 5724 8518 6629 <8>...   \n",
       "2     <31> <6> 3664 3664 1254 5970 126 2401 <6> 2401...   \n",
       "3     <19> <4> 4688 3981 6858 4338 <6> 4282 2229 139...   \n",
       "4     <4> <8> 777 5978 3631 1505 2287 4461 46 2401 <...   \n",
       "...                                                 ...   \n",
       "3978  <7> <9> 2545 4627 209 1761 1732 2610 7934 1015...   \n",
       "3979  <31> <4> 2374 1355 1564 2577 <9> 2615 5388 119...   \n",
       "3980  <31> <10> 2892 6895 5902 5970 5684 2892 1163 5...   \n",
       "3981  <3> <5> 2781 3368 3672 704 5667 <5> 5978 3031 ...   \n",
       "3982  <3> <4> 1209 6858 1137 4466 <8> 859 444 1037 8...   \n",
       "\n",
       "                                        label  \n",
       "0     1 1 1 0 0 0 0 0 0 0 0 0 0 0 0 0 0 0 0 0  \n",
       "1     0 0 0 0 0 1 1 1 1 0 0 0 0 0 0 0 0 0 0 0  \n",
       "2     0 0 1 0 1 1 0 0 1 1 0 0 0 0 0 0 0 0 0 0  \n",
       "3     0 0 0 0 0 0 0 0 0 0 0 0 1 0 0 0 0 0 0 0  \n",
       "4     0 0 1 0 0 0 0 0 0 1 0 0 0 1 0 0 0 0 0 0  \n",
       "...                                       ...  \n",
       "3978  0 0 0 0 0 0 1 0 0 0 0 0 0 0 0 0 0 0 0 0  \n",
       "3979  0 0 0 0 0 0 0 0 0 0 0 0 0 0 0 0 0 0 0 0  \n",
       "3980  0 0 0 0 1 0 0 1 0 0 0 0 0 0 0 0 0 0 0 0  \n",
       "3981  1 0 0 0 0 0 0 1 0 0 0 0 0 0 0 0 0 0 0 0  \n",
       "3982  0 0 1 0 1 1 1 0 0 0 0 0 0 0 0 0 0 0 0 0  \n",
       "\n",
       "[3983 rows x 2 columns]"
      ]
     },
     "execution_count": 19,
     "metadata": {},
     "output_type": "execute_result"
    }
   ],
   "source": [
    "df"
   ]
  },
  {
   "cell_type": "code",
   "execution_count": 21,
   "metadata": {},
   "outputs": [],
   "source": [
    "def dat_to_df(name):\n",
    "    assert name == \"train\" or name == \"test\"\n",
    "    # csv is used because rows are seperated by new lines we do not make use of the \",\" delimiter\n",
    "    df = pd.read_csv(\"../data/\" + name + \"-data.dat\", names=[\"data\"])\n",
    "    df[\"label\"] = pd.read_csv(\"../data/\"+ name + \"-label.dat\", header=None)\n",
    "    return df"
   ]
  },
  {
   "cell_type": "code",
   "execution_count": 46,
   "metadata": {},
   "outputs": [],
   "source": [
    "#initialize dict (BOW rep for every text)\n",
    "diction = dict.fromkeys((str(i) for i in range(8520)), 0)\n",
    "#<\\d+>"
   ]
  },
  {
   "cell_type": "code",
   "execution_count": 42,
   "metadata": {},
   "outputs": [],
   "source": [
    "import re\n"
   ]
  },
  {
   "cell_type": "code",
   "execution_count": null,
   "metadata": {},
   "outputs": [],
   "source": [
    "#print(df.iloc[0,0])\n",
    "test = re.sub('<\\d+>', '', df.iloc[0,0])\n",
    "#initialize dict (BOW rep for every text)\n",
    "diction = dict.fromkeys((str(i) for i in range(8520)), 0)\n",
    "\n",
    "for numbers in re.findall(pattern, test):\n",
    "    print(numbers)\n",
    "    diction[numbers] = diction[numbers] + 1\n",
    "print(diction)\n",
    "\n",
    "\n",
    "\n"
   ]
  },
  {
   "cell_type": "code",
   "execution_count": null,
   "metadata": {},
   "outputs": [],
   "source": [
    "def processing(row):\n",
    "    text  = row['article']\n",
    "    # create BoW dict\n",
    "    # zeros intialize use range as keys\n",
    "    diction = dict.fromkeys((str(i) for i in range(8520)), 0)\n",
    "    for numbers in re.findall(re.compile('[0-9]+'), text):\n",
    "        diction[numbers] = diction[numbers] + 1\n",
    "    return diction\n"
   ]
  }
 ],
 "metadata": {
  "interpreter": {
   "hash": "767d51c1340bd893661ea55ea3124f6de3c7a262a8b4abca0554b478b1e2ff90"
  },
  "kernelspec": {
   "display_name": "Python 3.8.10 64-bit",
   "language": "python",
   "name": "python3"
  },
  "language_info": {
   "codemirror_mode": {
    "name": "ipython",
    "version": 3
   },
   "file_extension": ".py",
   "mimetype": "text/x-python",
   "name": "python",
   "nbconvert_exporter": "python",
   "pygments_lexer": "ipython3",
   "version": "3.8.10"
  },
  "orig_nbformat": 4
 },
 "nbformat": 4,
 "nbformat_minor": 2
}
